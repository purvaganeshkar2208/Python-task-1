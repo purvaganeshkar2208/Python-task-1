{
 "cells": [
  {
   "cell_type": "code",
   "execution_count": 9,
   "id": "0726fcf5-cecc-49c3-aea5-413d8815c7ef",
   "metadata": {},
   "outputs": [],
   "source": [
    "classvalue = 'Da1'"
   ]
  },
  {
   "cell_type": "code",
   "execution_count": 13,
   "id": "6891641d-2d3b-47eb-8f46-147d1ffb1fbe",
   "metadata": {},
   "outputs": [
    {
     "name": "stdout",
     "output_type": "stream",
     "text": [
      "Da1\n"
     ]
    }
   ],
   "source": [
    "print(classvalue)"
   ]
  },
  {
   "cell_type": "code",
   "execution_count": 15,
   "id": "3b36119d-9bb6-4ccc-b50d-0eab0df67eee",
   "metadata": {},
   "outputs": [
    {
     "name": "stdout",
     "output_type": "stream",
     "text": [
      "Da1\n"
     ]
    }
   ],
   "source": [
    "print(classvalue)"
   ]
  },
  {
   "cell_type": "code",
   "execution_count": 17,
   "id": "0b4ed1e0-e4fd-45c1-89df-6e17b163517b",
   "metadata": {},
   "outputs": [],
   "source": [
    "t2 ='this is a cat'"
   ]
  },
  {
   "cell_type": "code",
   "execution_count": 19,
   "id": "c5872098-cb81-4a7d-9a5c-7348717ffb4d",
   "metadata": {},
   "outputs": [
    {
     "name": "stdout",
     "output_type": "stream",
     "text": [
      "this is a cat\n"
     ]
    }
   ],
   "source": [
    "print(t2)"
   ]
  },
  {
   "cell_type": "code",
   "execution_count": 23,
   "id": "68070983-003f-446d-a684-641a2ff5d411",
   "metadata": {},
   "outputs": [
    {
     "name": "stdout",
     "output_type": "stream",
     "text": [
      "this is cat\n"
     ]
    }
   ],
   "source": [
    "print('this is {}'.format(\"cat\"))"
   ]
  },
  {
   "cell_type": "code",
   "execution_count": 29,
   "id": "36bef07d-8f14-43a8-9ede-de6da63b2fd5",
   "metadata": {},
   "outputs": [
    {
     "name": "stdout",
     "output_type": "stream",
     "text": [
      "this is class ,this is a cat \n"
     ]
    }
   ],
   "source": [
    "print('this is class ,{} '.format(t2))"
   ]
  },
  {
   "cell_type": "code",
   "execution_count": 31,
   "id": "d61c60f1-da8d-478b-9751-1634e916e20b",
   "metadata": {},
   "outputs": [
    {
     "name": "stdout",
     "output_type": "stream",
     "text": [
      "this is Da1 class\n"
     ]
    }
   ],
   "source": [
    "print(f\"this is {classvalue} class\")"
   ]
  },
  {
   "cell_type": "code",
   "execution_count": 33,
   "id": "d36e0874-16bb-4fa6-a06f-00fe51b01935",
   "metadata": {},
   "outputs": [],
   "source": [
    "var1=2\n",
    "var2=3"
   ]
  },
  {
   "cell_type": "code",
   "execution_count": 37,
   "id": "8a10d93a-9b9f-444c-8be0-8f936c4f3aa8",
   "metadata": {},
   "outputs": [
    {
     "name": "stdout",
     "output_type": "stream",
     "text": [
      "this is var12, var23\n"
     ]
    }
   ],
   "source": [
    "print(f\"this is var1{var1}, var2{var2}\" )"
   ]
  },
  {
   "cell_type": "markdown",
   "id": "97879937-1051-40d8-8219-f030862c767d",
   "metadata": {},
   "source": [
    "# lhs and rhs"
   ]
  },
  {
   "cell_type": "code",
   "execution_count": 53,
   "id": "084a7e26-6921-4f3b-a9d0-61cff3e0615a",
   "metadata": {},
   "outputs": [],
   "source": [
    "a1 = 'im gabbar'"
   ]
  },
  {
   "cell_type": "code",
   "execution_count": 43,
   "id": "ee7a1fcb-2327-4c0a-aef8-7590ab9c0e92",
   "metadata": {},
   "outputs": [
    {
     "data": {
      "text/plain": [
       "'gabbar'"
      ]
     },
     "execution_count": 43,
     "metadata": {},
     "output_type": "execute_result"
    }
   ],
   "source": [
    "a1"
   ]
  },
  {
   "cell_type": "markdown",
   "id": "eaa0125b-ea74-462a-81a3-95b6ac52f8b5",
   "metadata": {},
   "source": [
    "# Replace"
   ]
  },
  {
   "cell_type": "code",
   "execution_count": 55,
   "id": "976e1b4c-cc44-4825-bf68-4711de83a1de",
   "metadata": {},
   "outputs": [
    {
     "data": {
      "text/plain": [
       "'im giggi'"
      ]
     },
     "execution_count": 55,
     "metadata": {},
     "output_type": "execute_result"
    }
   ],
   "source": [
    "a1.replace('gabbar','giggi')"
   ]
  },
  {
   "cell_type": "markdown",
   "id": "e8e9335d-0f11-45d1-8806-90db46b4594b",
   "metadata": {},
   "source": [
    "# upper"
   ]
  },
  {
   "cell_type": "code",
   "execution_count": 57,
   "id": "c6077dba-5ea1-4257-919f-432efa9f33fa",
   "metadata": {},
   "outputs": [
    {
     "data": {
      "text/plain": [
       "'IM GABBAR'"
      ]
     },
     "execution_count": 57,
     "metadata": {},
     "output_type": "execute_result"
    }
   ],
   "source": [
    "a1.upper()"
   ]
  },
  {
   "cell_type": "markdown",
   "id": "10fe8c0b-66c4-4d1d-94d0-1c9062c33140",
   "metadata": {},
   "source": [
    "# lower"
   ]
  },
  {
   "cell_type": "code",
   "execution_count": 62,
   "id": "53a1181a-d736-4b2b-b66d-4953d3e34277",
   "metadata": {},
   "outputs": [
    {
     "data": {
      "text/plain": [
       "'im gabbar'"
      ]
     },
     "execution_count": 62,
     "metadata": {},
     "output_type": "execute_result"
    }
   ],
   "source": [
    "a1.lower()"
   ]
  },
  {
   "cell_type": "markdown",
   "id": "e8b34a05-71a6-4a79-9847-bb36c1999cce",
   "metadata": {},
   "source": [
    "# title "
   ]
  },
  {
   "cell_type": "code",
   "execution_count": 67,
   "id": "089330d7-6056-4924-9244-29abacfe528b",
   "metadata": {},
   "outputs": [
    {
     "data": {
      "text/plain": [
       "'Im Gabbar'"
      ]
     },
     "execution_count": 67,
     "metadata": {},
     "output_type": "execute_result"
    }
   ],
   "source": [
    "a1.title()"
   ]
  },
  {
   "cell_type": "markdown",
   "id": "93949ec7-f105-46c7-92ca-310cb241d4d2",
   "metadata": {},
   "source": [
    "# capitalize"
   ]
  },
  {
   "cell_type": "code",
   "execution_count": 70,
   "id": "496b164d-e3ea-40cb-9489-aba970bf2463",
   "metadata": {},
   "outputs": [
    {
     "data": {
      "text/plain": [
       "'Im gabbar'"
      ]
     },
     "execution_count": 70,
     "metadata": {},
     "output_type": "execute_result"
    }
   ],
   "source": [
    "a1.capitalize()"
   ]
  },
  {
   "cell_type": "markdown",
   "id": "905b3fbc-7d2f-49ed-a6a7-d568d88dd47c",
   "metadata": {},
   "source": [
    "# strip"
   ]
  },
  {
   "cell_type": "code",
   "execution_count": 73,
   "id": "a2441f1e-8849-4d24-bc07-5a3ab13e5308",
   "metadata": {},
   "outputs": [
    {
     "data": {
      "text/plain": [
       "'im gabbar'"
      ]
     },
     "execution_count": 73,
     "metadata": {},
     "output_type": "execute_result"
    }
   ],
   "source": [
    "a1.strip()"
   ]
  },
  {
   "cell_type": "markdown",
   "id": "d750a3b2-7bfb-484b-9867-e6141cf2041b",
   "metadata": {},
   "source": [
    "# strip"
   ]
  },
  {
   "cell_type": "code",
   "execution_count": 76,
   "id": "d9deadb5-1201-4555-8e62-1a8257d9e6d9",
   "metadata": {},
   "outputs": [
    {
     "data": {
      "text/plain": [
       "['im', 'gabbar']"
      ]
     },
     "execution_count": 76,
     "metadata": {},
     "output_type": "execute_result"
    }
   ],
   "source": [
    "a1.split()"
   ]
  },
  {
   "cell_type": "markdown",
   "id": "32e2ee4b-f7a1-4611-848f-64d9737bfe52",
   "metadata": {},
   "source": [
    "# rfind (find the highest index of substring ,if not then it gives -1)"
   ]
  },
  {
   "cell_type": "code",
   "execution_count": 84,
   "id": "66525fdf-8f1b-4415-a3e0-61cc499f995f",
   "metadata": {},
   "outputs": [
    {
     "data": {
      "text/plain": [
       "-1"
      ]
     },
     "execution_count": 84,
     "metadata": {},
     "output_type": "execute_result"
    }
   ],
   "source": [
    "a1.rfind(\"1\")"
   ]
  },
  {
   "cell_type": "markdown",
   "id": "8fc5b0c9-415c-4bb3-8983-02b0e4753ea5",
   "metadata": {},
   "source": [
    "# starts with"
   ]
  },
  {
   "cell_type": "code",
   "execution_count": 91,
   "id": "94c5b45a-1a6c-4a89-8b07-681e7f4e7b96",
   "metadata": {},
   "outputs": [
    {
     "data": {
      "text/plain": [
       "False"
      ]
     },
     "execution_count": 91,
     "metadata": {},
     "output_type": "execute_result"
    }
   ],
   "source": [
    "a1.startswith(\"ga\")"
   ]
  },
  {
   "cell_type": "code",
   "execution_count": 93,
   "id": "696317f1-2ac0-49a8-bfb9-738e46179e0c",
   "metadata": {},
   "outputs": [
    {
     "data": {
      "text/plain": [
       "True"
      ]
     },
     "execution_count": 93,
     "metadata": {},
     "output_type": "execute_result"
    }
   ],
   "source": [
    "a1.startswith(\"im\")"
   ]
  },
  {
   "cell_type": "markdown",
   "id": "23dd04f0-bcae-4354-926b-224e0a567289",
   "metadata": {},
   "source": [
    "# endswith"
   ]
  },
  {
   "cell_type": "code",
   "execution_count": 96,
   "id": "516fe993-7b3e-42c7-99ac-6dbe7f5fa151",
   "metadata": {},
   "outputs": [
    {
     "data": {
      "text/plain": [
       "True"
      ]
     },
     "execution_count": 96,
     "metadata": {},
     "output_type": "execute_result"
    }
   ],
   "source": [
    "a1.endswith(\"ar\")"
   ]
  },
  {
   "cell_type": "markdown",
   "id": "741b38b6-c9e7-4cf4-8413-bac030c10f52",
   "metadata": {},
   "source": [
    "# isdigit"
   ]
  },
  {
   "cell_type": "code",
   "execution_count": 115,
   "id": "491393c7-a25b-4d67-9c8c-cc3a92248489",
   "metadata": {},
   "outputs": [],
   "source": [
    " q = \"1234\""
   ]
  },
  {
   "cell_type": "code",
   "execution_count": 117,
   "id": "ae18945e-a857-4572-b041-2091cfa41b52",
   "metadata": {},
   "outputs": [
    {
     "data": {
      "text/plain": [
       "True"
      ]
     },
     "execution_count": 117,
     "metadata": {},
     "output_type": "execute_result"
    }
   ],
   "source": [
    "q.isdigit()"
   ]
  },
  {
   "cell_type": "markdown",
   "id": "aee88bac-6cd8-4b89-8ef1-9e9fbeab2870",
   "metadata": {},
   "source": [
    "# join"
   ]
  },
  {
   "cell_type": "code",
   "execution_count": 122,
   "id": "14cb8baa-7ba9-48a2-8b15-d2e2028dff99",
   "metadata": {},
   "outputs": [
    {
     "data": {
      "text/plain": [
       "'2024-08-11'"
      ]
     },
     "execution_count": 122,
     "metadata": {},
     "output_type": "execute_result"
    }
   ],
   "source": [
    "\"-\".join([\"2024\",\"08\",\"11\"])"
   ]
  },
  {
   "cell_type": "markdown",
   "id": "186b820a-fef5-4dfe-bec4-2f2a0ee6374d",
   "metadata": {},
   "source": [
    "# swap case"
   ]
  },
  {
   "cell_type": "code",
   "execution_count": 125,
   "id": "f6fcff75-781c-4a04-bedf-1a3be7a7087f",
   "metadata": {},
   "outputs": [
    {
     "data": {
      "text/plain": [
       "'IM GABBAR'"
      ]
     },
     "execution_count": 125,
     "metadata": {},
     "output_type": "execute_result"
    }
   ],
   "source": [
    "a1.swapcase()"
   ]
  },
  {
   "cell_type": "code",
   "execution_count": 144,
   "id": "dfe23e7e-ee36-4d9a-b0c6-c69d06f42962",
   "metadata": {},
   "outputs": [],
   "source": [
    "b2= \"fries ,fries,fries\""
   ]
  },
  {
   "cell_type": "code",
   "execution_count": 146,
   "id": "9e4c771a-93c0-4c46-9133-2a35efee1a39",
   "metadata": {},
   "outputs": [
    {
     "data": {
      "text/plain": [
       "'FRIES ,FRIES,FRIES'"
      ]
     },
     "execution_count": 146,
     "metadata": {},
     "output_type": "execute_result"
    }
   ],
   "source": [
    "b2.swapcase()"
   ]
  },
  {
   "cell_type": "markdown",
   "id": "a6f7229f-6f74-436d-aa4c-ab68dc56f8a7",
   "metadata": {},
   "source": [
    "# count"
   ]
  },
  {
   "cell_type": "code",
   "execution_count": 148,
   "id": "013aa97e-21bd-44c7-af5e-4a5c0717b34a",
   "metadata": {},
   "outputs": [
    {
     "data": {
      "text/plain": [
       "0"
      ]
     },
     "execution_count": 148,
     "metadata": {},
     "output_type": "execute_result"
    }
   ],
   "source": [
    "b2.count(\"3\")"
   ]
  },
  {
   "cell_type": "code",
   "execution_count": null,
   "id": "2c1834f8-d35b-46c1-83ea-6a203737dbcb",
   "metadata": {},
   "outputs": [],
   "source": []
  }
 ],
 "metadata": {
  "kernelspec": {
   "display_name": "Python 3 (ipykernel)",
   "language": "python",
   "name": "python3"
  },
  "language_info": {
   "codemirror_mode": {
    "name": "ipython",
    "version": 3
   },
   "file_extension": ".py",
   "mimetype": "text/x-python",
   "name": "python",
   "nbconvert_exporter": "python",
   "pygments_lexer": "ipython3",
   "version": "3.12.4"
  }
 },
 "nbformat": 4,
 "nbformat_minor": 5
}
